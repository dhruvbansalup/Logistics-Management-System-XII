{
 "cells": [
  {
   "cell_type": "code",
   "execution_count": 1,
   "metadata": {},
   "outputs": [
    {
     "name": "stdout",
     "output_type": "stream",
     "text": [
      "\u001b[36m            WELCOME TO THE\u001b[0m\n",
      "\u001b[94m\u001b[1m      LOGISTICS MANAGEMENT SYSTEM!!\u001b[0m\n",
      "\u001b[91m                          - Made By Dhruv Bansal\n",
      "\u001b[0m\n",
      "\u001b[92m\n",
      "      Please select an required module:-\n",
      "      \n",
      "      1- Create Masters\n",
      "      2- Create Vouchers\n",
      "      3- Veiw Reports\n",
      "      4- Exit\n",
      "      \u001b[0m\n",
      "\u001b[92m\n",
      "         Please select an required Create Masters Option:-\n",
      "         \n",
      "         1- Create Consigner\n",
      "         2- Create Consignee\n",
      "         3- Create Employee\n",
      "         4- Back to preivious screen\n",
      "         \u001b[0m\n",
      "\u001b[92m\n",
      "      Please select an required module:-\n",
      "      \n",
      "      1- Create Masters\n",
      "      2- Create Vouchers\n",
      "      3- Veiw Reports\n",
      "      4- Exit\n",
      "      \u001b[0m\n",
      "\u001b[94m\u001b[1mTHANKYOU!! for using LOGISTICS MANAGEMENT SYSTEM. Have a great Day!!\u001b[0m\n"
     ]
    }
   ],
   "source": []
  }
 ],
 "metadata": {
  "interpreter": {
   "hash": "13fdf25ef2beee923e1f1011635d38d6ce68fb2882c6a64f76de1420ab9cc9f4"
  },
  "kernelspec": {
   "display_name": "Python 3.9.5 64-bit",
   "language": "python",
   "name": "python3"
  },
  "language_info": {
   "codemirror_mode": {
    "name": "ipython",
    "version": 3
   },
   "file_extension": ".py",
   "mimetype": "text/x-python",
   "name": "python",
   "nbconvert_exporter": "python",
   "pygments_lexer": "ipython3",
   "version": "3.9.5"
  },
  "orig_nbformat": 4
 },
 "nbformat": 4,
 "nbformat_minor": 2
}
